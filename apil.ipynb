{
 "cells": [
  {
   "cell_type": "code",
   "execution_count": null,
   "metadata": {},
   "outputs": [],
   "source": [
    "from fastapi.middleware.cors import CORSMiddleware\n",
    "from pydantic import BaseModel\n",
    "import pandas as pd\n",
    "import pickle\n",
    "from dataclasses import dataclass"
   ]
  },
  {
   "cell_type": "code",
   "execution_count": null,
   "metadata": {},
   "outputs": [],
   "source": [
    "app = FastAPI()\n"
   ]
  },
  {
   "cell_type": "code",
   "execution_count": null,
   "metadata": {},
   "outputs": [],
   "source": [
    "app.add_middleware(\n",
    "    CORSMiddleware,\n",
    "    allow_origins=[\"*\"],\n",
    "    allow_credentials=True,\n",
    "    allow_methods=[\"*\"],\n",
    "    allow_headers=[\"*\"],\n",
    ")"
   ]
  },
  {
   "cell_type": "code",
   "execution_count": null,
   "metadata": {},
   "outputs": [],
   "source": [
    "@dataclass\n",
    "class VARIABLES:\n",
    "    model_filename = './model.pkl'\n"
   ]
  },
  {
   "cell_type": "code",
   "execution_count": null,
   "metadata": {},
   "outputs": [],
   "source": [
    "class ModelInput(BaseModel):\n",
    "    # write model input columns\n",
    "    Annual_Income: Optional[float64] = None\n",
    "    Monthly_Inhand_Salary: Optional[float64] = None\n",
    "    Num_Bank_Accounts: Optional[float64] = None\n",
    "    Num_Credit_Card: Optional[float64] = None\n",
    "    Interest_Rate: Optional[float64] = None\n",
    "    Delay_from_due_date: Optional[float64] = None\n",
    "    Num_of_Delayed_Payment: Optional[float64] = None\n",
    "    Changed_Credit_Limit: Optional[float64] = None\n",
    "    Outstanding_Debt: Optional[float64] = None\n",
    "    Total_EMI_per_month: Optional[float64] = None\n",
    "    Amount_invested_monthly: Optional[float64] = None\n",
    "    Credit_Mix: Optional[float64] = None\n",
    "    Payment_of_Min_Amount_No: Optional[float64] = None\n",
    "    Payment_of_Min_Amount_Yes: Optional[float64] = None\n",
    "\n"
   ]
  },
  {
   "cell_type": "code",
   "execution_count": null,
   "metadata": {},
   "outputs": [],
   "source": [
    "def preprocess(data: pd.DataFrame) -> pd.DataFrame:\n",
    "    data = data.drop(columns = ['Unnamed: 0','Type_of_Loan', 'Payment_Behaviour','ID', 'Age','SSN','Customer_ID', 'Occupation','Name', 'Month'], axis = 1)\n",
    "    data['Credit_Score'] = data['Credit_Score'].replace({\"Poor\": 0, \"Good\": 1, \"Standard\":2})\n",
    "    data_num=data.select_dtypes(exclude = 'object')\n",
    "    data_obj=data.select_dtypes(include = 'object')\n",
    "    data_obj = pd.get_dummies(data_obj, columns=['Payment_of_Min_Amount'], drop_first = True)\n",
    "    le = LabelEncoder()\n",
    "    data_obj['Credit_Mix'] = le.fit_transform(data_obj.Credit_Mix)\n",
    "    scaler = MinMaxScaler()\n",
    "    data_num_standardized = pd.DataFrame(scaler.fit_transform(data_num), \n",
    "                                        columns=data_num.columns, index=data_num.index)\n",
    "    data = pd.concat([data_num_standardized, data_obj], axis = 1)\n",
    "\n",
    "\n",
    "    pass"
   ]
  },
  {
   "cell_type": "code",
   "execution_count": null,
   "metadata": {},
   "outputs": [],
   "source": [
    "@app.get(\"/predict\")\n",
    "def root(x_model: ModelInput):\n",
    "    data = pd.DataFrame(x_model)\n",
    "    data = preprocess(data)\n",
    "    result = model.predict(data)\n",
    "    return {\n",
    "        \"the result of model\": result\n",
    "    }"
   ]
  }
 ],
 "metadata": {
  "kernelspec": {
   "display_name": "base",
   "language": "python",
   "name": "python3"
  },
  "language_info": {
   "codemirror_mode": {
    "name": "ipython",
    "version": 3
   },
   "file_extension": ".py",
   "mimetype": "text/x-python",
   "name": "python",
   "nbconvert_exporter": "python",
   "pygments_lexer": "ipython3",
   "version": "3.9.12"
  },
  "orig_nbformat": 4
 },
 "nbformat": 4,
 "nbformat_minor": 2
}
